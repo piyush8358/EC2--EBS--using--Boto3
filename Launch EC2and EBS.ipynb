{
 "cells": [
  {
   "cell_type": "code",
   "execution_count": 8,
   "id": "a15f91df",
   "metadata": {},
   "outputs": [
    {
     "name": "stdout",
     "output_type": "stream",
     "text": [
      "EC2 instance with ID i-026413277b5c4e8a7 is now running.\n",
      "EBS volume with ID vol-02dc29828c4daa753 is now available.\n",
      "EBS volume with ID vol-02dc29828c4daa753 attached to instance i-026413277b5c4e8a7 as /dev/sdf.\n"
     ]
    }
   ],
   "source": [
    "import boto3\n",
    "\n",
    "# AWS credentials and region\n",
    "aws_access_key = \"YOUR_AWS_ACCESS_KEY\"\n",
    "aws_secret_key = \"YOUR_AWS_SECRET_KEY\"\n",
    "region = \"ap-south-1\"  # Change this to your preferred region\n",
    "\n",
    "# Create an EC2 client\n",
    "ec2 = boto3.client('ec2', region_name=region,\n",
    "                   aws_access_key_id=aws_access_key,\n",
    "                   aws_secret_access_key=aws_secret_key)\n",
    "\n",
    "# Create an EBS client\n",
    "ebs = boto3.client('ec2', region_name=region,\n",
    "                   aws_access_key_id=aws_access_key,\n",
    "                   aws_secret_access_key=aws_secret_key)\n",
    "\n",
    "# Launch an EC2 instance\n",
    "instance = ec2.run_instances(\n",
    "    ImageId='ami-0b9ecf71fe947bbdd',  # Replace with your preferred AMI ID\n",
    "    InstanceType='t2.micro',\n",
    "    MinCount=1,\n",
    "    MaxCount=1\n",
    ")\n",
    "\n",
    "instance_id = instance['Instances'][0]['InstanceId']\n",
    "\n",
    "# Wait for the instance to be running\n",
    "ec2.get_waiter('instance_running').wait(InstanceIds=[instance_id])\n",
    "print(f\"EC2 instance with ID {instance_id} is now running.\")\n",
    "\n",
    "# Create an EBS volume\n",
    "volume = ebs.create_volume(\n",
    "    AvailabilityZone=f\"{region}b\",  # Replace 'b' with the desired availability zone (e.g., 'a', 'b', 'c')\n",
    "    Size=8,\n",
    "    VolumeType='gp2'\n",
    ")\n",
    "\n",
    "volume_id = volume['VolumeId']\n",
    "\n",
    "# Wait for the EBS volume to be available\n",
    "ebs.get_waiter('volume_available').wait(VolumeIds=[volume_id])\n",
    "print(f\"EBS volume with ID {volume_id} is now available.\")\n",
    "\n",
    "# Attach the EBS volume to the EC2 instance\n",
    "response = ec2.attach_volume(\n",
    "    Device='/dev/sdf',  # Replace with the desired device name (e.g., /dev/sdf)\n",
    "    InstanceId=instance_id,\n",
    "    VolumeId=volume_id\n",
    ")\n",
    "\n",
    "print(f\"EBS volume with ID {volume_id} attached to instance {instance_id} as {response['Device']}.\")\n"
   ]
  },
  {
   "cell_type": "code",
   "execution_count": null,
   "id": "a3df2135",
   "metadata": {},
   "outputs": [],
   "source": []
  }
 ],
 "metadata": {
  "kernelspec": {
   "display_name": "Python 3 (ipykernel)",
   "language": "python",
   "name": "python3"
  },
  "language_info": {
   "codemirror_mode": {
    "name": "ipython",
    "version": 3
   },
   "file_extension": ".py",
   "mimetype": "text/x-python",
   "name": "python",
   "nbconvert_exporter": "python",
   "pygments_lexer": "ipython3",
   "version": "3.10.11"
  }
 },
 "nbformat": 4,
 "nbformat_minor": 5
}
